{
 "cells": [
  {
   "cell_type": "code",
   "execution_count": 1,
   "id": "41c5860d-647b-4994-b5be-1d5996428d40",
   "metadata": {},
   "outputs": [
    {
     "name": "stdout",
     "output_type": "stream",
     "text": [
      "   #        Country  Daily Oil Consumption (Barrels) World Share  \\\n",
      "0  1  United States                         19687287      20.30%   \n",
      "1  2          China                         12791553      13.20%   \n",
      "2  3          India                          4443000       4.60%   \n",
      "3  4          Japan                          4012877       4.10%   \n",
      "4  5         Russia                          3631287       3.70%   \n",
      "\n",
      "   Yearly Gallons Per Capita  Price Per Gallon (USD)  Price Per Liter (USD)  \\\n",
      "0                      934.3                    5.19                   1.37   \n",
      "1                      138.7                    5.42                   1.43   \n",
      "2                       51.4                    5.05                   1.33   \n",
      "3                      481.5                    4.69                   1.24   \n",
      "4                      383.2                    3.41                   0.90   \n",
      "\n",
      "   Price Per Liter (PKR)  \n",
      "0                 289.97  \n",
      "1                 302.87  \n",
      "2                 281.93  \n",
      "3                 262.05  \n",
      "4                 190.56  \n"
     ]
    }
   ],
   "source": [
    "import pandas as pd\n",
    "import seaborn as sns\n",
    "import matplotlib.pyplot as plt\n",
    "from sklearn.model_selection import train_test_split\n",
    "from sklearn.linear_model import LinearRegression, LogisticRegression\n",
    "from sklearn.tree import DecisionTreeRegressor\n",
    "from sklearn.ensemble import RandomForestClassifier\n",
    "from sklearn.cluster import KMeans\n",
    "from sklearn.metrics import mean_squared_error, r2_score, accuracy_score, confusion_matrix, classification_report\n",
    "\n",
    "# Load the dataset with a different encoding\n",
    "data = pd.read_csv(r'Petrol.csv', encoding='ISO-8859-1')\n",
    "\n",
    "# Display the first few rows of the dataset\n",
    "print(data.head())\n",
    "\n",
    "# Handle null values by dropping rows with nulls\n",
    "data = data.dropna()\n",
    "\n",
    "\n"
   ]
  },
  {
   "cell_type": "code",
   "execution_count": 2,
   "id": "9f8b711c-54df-4298-b5be-c8c8c1e6cf66",
   "metadata": {},
   "outputs": [
    {
     "data": {
      "text/html": [
       "<div>\n",
       "<style scoped>\n",
       "    .dataframe tbody tr th:only-of-type {\n",
       "        vertical-align: middle;\n",
       "    }\n",
       "\n",
       "    .dataframe tbody tr th {\n",
       "        vertical-align: top;\n",
       "    }\n",
       "\n",
       "    .dataframe thead th {\n",
       "        text-align: right;\n",
       "    }\n",
       "</style>\n",
       "<table border=\"1\" class=\"dataframe\">\n",
       "  <thead>\n",
       "    <tr style=\"text-align: right;\">\n",
       "      <th></th>\n",
       "      <th>#</th>\n",
       "      <th>Country</th>\n",
       "      <th>Daily Oil Consumption (Barrels)</th>\n",
       "      <th>World Share</th>\n",
       "      <th>Yearly Gallons Per Capita</th>\n",
       "      <th>Price Per Gallon (USD)</th>\n",
       "      <th>Price Per Liter (USD)</th>\n",
       "      <th>Price Per Liter (PKR)</th>\n",
       "    </tr>\n",
       "  </thead>\n",
       "  <tbody>\n",
       "    <tr>\n",
       "      <th>0</th>\n",
       "      <td>1</td>\n",
       "      <td>United States</td>\n",
       "      <td>19687287</td>\n",
       "      <td>20.30%</td>\n",
       "      <td>934.3</td>\n",
       "      <td>5.19</td>\n",
       "      <td>1.37</td>\n",
       "      <td>289.97</td>\n",
       "    </tr>\n",
       "    <tr>\n",
       "      <th>1</th>\n",
       "      <td>2</td>\n",
       "      <td>China</td>\n",
       "      <td>12791553</td>\n",
       "      <td>13.20%</td>\n",
       "      <td>138.7</td>\n",
       "      <td>5.42</td>\n",
       "      <td>1.43</td>\n",
       "      <td>302.87</td>\n",
       "    </tr>\n",
       "    <tr>\n",
       "      <th>2</th>\n",
       "      <td>3</td>\n",
       "      <td>India</td>\n",
       "      <td>4443000</td>\n",
       "      <td>4.60%</td>\n",
       "      <td>51.4</td>\n",
       "      <td>5.05</td>\n",
       "      <td>1.33</td>\n",
       "      <td>281.93</td>\n",
       "    </tr>\n",
       "    <tr>\n",
       "      <th>3</th>\n",
       "      <td>4</td>\n",
       "      <td>Japan</td>\n",
       "      <td>4012877</td>\n",
       "      <td>4.10%</td>\n",
       "      <td>481.5</td>\n",
       "      <td>4.69</td>\n",
       "      <td>1.24</td>\n",
       "      <td>262.05</td>\n",
       "    </tr>\n",
       "    <tr>\n",
       "      <th>4</th>\n",
       "      <td>5</td>\n",
       "      <td>Russia</td>\n",
       "      <td>3631287</td>\n",
       "      <td>3.70%</td>\n",
       "      <td>383.2</td>\n",
       "      <td>3.41</td>\n",
       "      <td>0.90</td>\n",
       "      <td>190.56</td>\n",
       "    </tr>\n",
       "  </tbody>\n",
       "</table>\n",
       "</div>"
      ],
      "text/plain": [
       "   #        Country  Daily Oil Consumption (Barrels) World Share  \\\n",
       "0  1  United States                         19687287      20.30%   \n",
       "1  2          China                         12791553      13.20%   \n",
       "2  3          India                          4443000       4.60%   \n",
       "3  4          Japan                          4012877       4.10%   \n",
       "4  5         Russia                          3631287       3.70%   \n",
       "\n",
       "   Yearly Gallons Per Capita  Price Per Gallon (USD)  Price Per Liter (USD)  \\\n",
       "0                      934.3                    5.19                   1.37   \n",
       "1                      138.7                    5.42                   1.43   \n",
       "2                       51.4                    5.05                   1.33   \n",
       "3                      481.5                    4.69                   1.24   \n",
       "4                      383.2                    3.41                   0.90   \n",
       "\n",
       "   Price Per Liter (PKR)  \n",
       "0                 289.97  \n",
       "1                 302.87  \n",
       "2                 281.93  \n",
       "3                 262.05  \n",
       "4                 190.56  "
      ]
     },
     "execution_count": 2,
     "metadata": {},
     "output_type": "execute_result"
    }
   ],
   "source": [
    "data.head()"
   ]
  },
  {
   "cell_type": "code",
   "execution_count": 3,
   "id": "2459003e-703b-4700-8e9b-0a7a0ca70274",
   "metadata": {},
   "outputs": [
    {
     "data": {
      "text/plain": [
       "sklearn.linear_model._base.LinearRegression"
      ]
     },
     "execution_count": 3,
     "metadata": {},
     "output_type": "execute_result"
    }
   ],
   "source": [
    "LinearRegression"
   ]
  },
  {
   "cell_type": "code",
   "execution_count": 4,
   "id": "450cc369-7df2-4b46-ab2c-836461b1bd2c",
   "metadata": {},
   "outputs": [
    {
     "data": {
      "text/plain": [
       "(414728884467.4274,\n",
       " -0.5074024344506645,\n",
       " array([   834.9257656 , -22247.94178177]),\n",
       " 449119.2678203881)"
      ]
     },
     "execution_count": 4,
     "metadata": {},
     "output_type": "execute_result"
    }
   ],
   "source": [
    "X = data[['Yearly Gallons Per Capita', 'Price Per Gallon (USD)']]\n",
    "y = data['Daily Oil Consumption (Barrels)']\n",
    "\n",
    "X_train, X_test, y_train, y_test = train_test_split(X, y, test_size=0.2, random_state=42)\n",
    "\n",
    "linear_regressor = LinearRegression()\n",
    "linear_regressor.fit(X_train, y_train)\n",
    "\n",
    "y_pred = linear_regressor.predict(X_test)\n",
    "\n",
    "mse = mean_squared_error(y_test, y_pred)\n",
    "r2 = r2_score(y_test, y_pred)\n",
    "\n",
    "mse, r2, linear_regressor.coef_, linear_regressor.intercept_\n"
   ]
  },
  {
   "cell_type": "code",
   "execution_count": 5,
   "id": "0fb093a6-da5b-4acc-a767-698f2e71316d",
   "metadata": {},
   "outputs": [
    {
     "data": {
      "text/plain": [
       "sklearn.linear_model._logistic.LogisticRegression"
      ]
     },
     "execution_count": 5,
     "metadata": {},
     "output_type": "execute_result"
    }
   ],
   "source": [
    "LogisticRegression"
   ]
  },
  {
   "cell_type": "code",
   "execution_count": 6,
   "id": "f864ec57-1158-403d-9f89-193f7bc5cb0b",
   "metadata": {},
   "outputs": [
    {
     "data": {
      "text/plain": [
       "(1.0,\n",
       " array([[37]], dtype=int64),\n",
       " '              precision    recall  f1-score   support\\n\\n           0       1.00      1.00      1.00        37\\n\\n    accuracy                           1.00        37\\n   macro avg       1.00      1.00      1.00        37\\nweighted avg       1.00      1.00      1.00        37\\n')"
      ]
     },
     "execution_count": 6,
     "metadata": {},
     "output_type": "execute_result"
    }
   ],
   "source": [
    "threshold = 5000000\n",
    "data['High_Consumption'] = (data['Daily Oil Consumption (Barrels)'] > threshold).astype(int)\n",
    "\n",
    "# Select features and binary target for Logistic Regression\n",
    "X = data[['Yearly Gallons Per Capita', 'Price Per Gallon (USD)']]\n",
    "y = data['High_Consumption']\n",
    "\n",
    "# Split the data into training and testing sets\n",
    "X_train, X_test, y_train, y_test = train_test_split(X, y, test_size=0.2, random_state=42)\n",
    "\n",
    "# Initialize and train the Logistic Regression model\n",
    "logistic_regressor = LogisticRegression()\n",
    "logistic_regressor.fit(X_train, y_train)\n",
    "\n",
    "# Make predictions on the test set\n",
    "y_pred = logistic_regressor.predict(X_test)\n",
    "\n",
    "# Calculate performance metrics\n",
    "accuracy = accuracy_score(y_test, y_pred)\n",
    "conf_matrix = confusion_matrix(y_test, y_pred)\n",
    "class_report = classification_report(y_test, y_pred)\n",
    "\n",
    "accuracy, conf_matrix, class_report"
   ]
  },
  {
   "cell_type": "code",
   "execution_count": 7,
   "id": "0a199a65-7148-40cd-97d5-695691da896e",
   "metadata": {},
   "outputs": [
    {
     "data": {
      "text/plain": [
       "(   #        Country  Daily Oil Consumption (Barrels) World Share  \\\n",
       " 0  1  United States                         19687287      20.30%   \n",
       " 1  2          China                         12791553      13.20%   \n",
       " 2  3          India                          4443000       4.60%   \n",
       " 3  4          Japan                          4012877       4.10%   \n",
       " 4  5         Russia                          3631287       3.70%   \n",
       " \n",
       "    Yearly Gallons Per Capita  Price Per Gallon (USD)  Price Per Liter (USD)  \\\n",
       " 0                      934.3                    5.19                   1.37   \n",
       " 1                      138.7                    5.42                   1.43   \n",
       " 2                       51.4                    5.05                   1.33   \n",
       " 3                      481.5                    4.69                   1.24   \n",
       " 4                      383.2                    3.41                   0.90   \n",
       " \n",
       "    Price Per Liter (PKR)  High_Consumption  \n",
       " 0                 289.97                 1  \n",
       " 1                 302.87                 1  \n",
       " 2                 281.93                 0  \n",
       " 3                 262.05                 0  \n",
       " 4                 190.56                 0  ,\n",
       " #                                  0\n",
       " Country                            0\n",
       " Daily Oil Consumption (Barrels)    0\n",
       " World Share                        0\n",
       " Yearly Gallons Per Capita          0\n",
       " Price Per Gallon (USD)             0\n",
       " Price Per Liter (USD)              0\n",
       " Price Per Liter (PKR)              0\n",
       " High_Consumption                   0\n",
       " dtype: int64)"
      ]
     },
     "execution_count": 7,
     "metadata": {},
     "output_type": "execute_result"
    }
   ],
   "source": [
    "# Remove rows with null values\n",
    "data_cleaned = data.dropna()\n",
    "\n",
    "# Check if there are any null values remaining\n",
    "null_values = data_cleaned.isnull().sum()\n",
    "\n",
    "data_cleaned.head(), null_values\n"
   ]
  },
  {
   "cell_type": "code",
   "execution_count": 8,
   "id": "cfc12867-89d3-4ab7-a3a1-f61ccb09f3da",
   "metadata": {},
   "outputs": [
    {
     "name": "stdout",
     "output_type": "stream",
     "text": [
      "                #  Daily Oil Consumption (Barrels)  Yearly Gallons Per Capita  \\\n",
      "count  133.000000                       133.000000                 133.000000   \n",
      "mean   104.451128                     96653.526316                 188.751880   \n",
      "std     42.179175                    120042.776327                 187.205531   \n",
      "min     31.000000                        70.000000                   2.200000   \n",
      "25%     70.000000                     18001.000000                  35.600000   \n",
      "50%    104.000000                     49000.000000                 125.400000   \n",
      "75%    141.000000                    137000.000000                 279.700000   \n",
      "max    180.000000                    582161.000000                 812.700000   \n",
      "\n",
      "       Price Per Gallon (USD)  Price Per Liter (USD)  Price Per Liter (PKR)  \n",
      "count              133.000000             133.000000             133.000000  \n",
      "mean                 5.256692               1.389023             293.680376  \n",
      "std                  1.945229               0.513427             108.683340  \n",
      "min                  0.830000               0.220000              46.530000  \n",
      "25%                  4.260000               1.130000             237.940000  \n",
      "50%                  5.170000               1.370000             288.910000  \n",
      "75%                  6.480000               1.710000             361.880000  \n",
      "max                 10.040000               2.650000             561.110000  \n"
     ]
    }
   ],
   "source": [
    "import pandas as pd\n",
    "\n",
    "# Load the dataset\n",
    "file_path = 'petrol.csv'\n",
    "data = pd.read_csv(file_path, encoding='ISO-8859-1')\n",
    "\n",
    "# Define a function to remove outliers using IQR\n",
    "def remove_outliers_iqr(df, column):\n",
    "    Q1 = df[column].quantile(0.25)\n",
    "    Q3 = df[column].quantile(0.75)\n",
    "    IQR = Q3 - Q1\n",
    "    lower_bound = Q1 - 1.5 * IQR\n",
    "    upper_bound = Q3 + 1.5 * IQR\n",
    "    return df[(df[column] >= lower_bound) & (df[column] <= upper_bound)]\n",
    "\n",
    "# Remove outliers from specific columns\n",
    "columns_to_check = ['Daily Oil Consumption (Barrels)', 'Yearly Gallons Per Capita', 'Price Per Gallon (USD)']\n",
    "for column in columns_to_check:\n",
    "    data = remove_outliers_iqr(data, column)\n",
    "\n",
    "# Check the dataset after removing outliers\n",
    "print(data.describe())\n"
   ]
  },
  {
   "cell_type": "code",
   "execution_count": 9,
   "id": "8c77a2f6-96ea-49d8-8d5d-c8729823d6cd",
   "metadata": {},
   "outputs": [
    {
     "data": {
      "image/png": "[encoded data removed]",
      "text/plain": [
       "<Figure size 1200x800 with 2 Axes>"
      ]
     },
     "metadata": {},
     "output_type": "display_data"
    }
   ],
   "source": [
    "pivot_data = data.pivot_table(index='Country', values='Daily Oil Consumption (Barrels)', aggfunc='sum')\n",
    "\n",
    "# Reset the index to prepare for heatmap\n",
    "pivot_data = pivot_data.reset_index()\n",
    "\n",
    "# Plot the heatmap\n",
    "plt.figure(figsize=(12, 8))\n",
    "heatmap = sns.heatmap(pivot_data.set_index('Country').transpose(), annot=True, cmap='YlGnBu')\n",
    "\n",
    "plt.title('Heatmap of Daily Oil Consumption by Country')\n",
    "plt.xlabel('Country')\n",
    "plt.ylabel('Daily Oil Consumption (Barrels)')\n",
    "plt.show()"
   ]
  },
  {
   "cell_type": "code",
   "execution_count": null,
   "id": "dd3b5ac2-87f7-405a-b353-bdfb6bfc68c5",
   "metadata": {},
   "outputs": [],
   "source": [
    "# 3. Decision Tree Regression"
   ]
  },
  {
   "cell_type": "code",
   "execution_count": 11,
   "id": "2903762d-9cd9-4094-8ad7-ef36b5418bb3",
   "metadata": {},
   "outputs": [
    {
     "name": "stdout",
     "output_type": "stream",
     "text": [
      "Decision Tree Regression MSE: 10.226737037037038, R2: -2.1201977512853842\n"
     ]
    }
   ],
   "source": [
    "\n",
    "X_dtr = data[['Yearly Gallons Per Capita', 'Daily Oil Consumption (Barrels)']]\n",
    "y_dtr = data['Price Per Gallon (USD)']\n",
    "X_train_dtr, X_test_dtr, y_train_dtr, y_test_dtr = train_test_split(X_dtr, y_dtr, test_size=0.2, random_state=42)\n",
    "tree_regressor = DecisionTreeRegressor()\n",
    "tree_regressor.fit(X_train_dtr, y_train_dtr)\n",
    "y_pred_dtr = tree_regressor.predict(X_test_dtr)\n",
    "mse_dtr = mean_squared_error(y_test_dtr, y_pred_dtr)\n",
    "r2_dtr = r2_score(y_test_dtr, y_pred_dtr)\n",
    "print(f\"Decision Tree Regression MSE: {mse_dtr}, R2: {r2_dtr}\")"
   ]
  },
  {
   "cell_type": "code",
   "execution_count": 12,
   "id": "fbcf9ff8-0bce-4065-93cc-66885a131ce7",
   "metadata": {},
   "outputs": [],
   "source": [
    "# 4. Random Forest Classification"
   ]
  },
  {
   "cell_type": "code",
   "execution_count": 13,
   "id": "fde33b5f-345a-4087-a08f-d5520650a6be",
   "metadata": {},
   "outputs": [
    {
     "name": "stdout",
     "output_type": "stream",
     "text": [
      "Random Forest Classification Accuracy: 0.5185185185185185\n",
      "Confusion Matrix:\n",
      "[[4 3 2]\n",
      " [4 4 1]\n",
      " [1 2 6]]\n",
      "Classification Report:\n",
      "              precision    recall  f1-score   support\n",
      "\n",
      "           0       0.44      0.44      0.44         9\n",
      "           1       0.44      0.44      0.44         9\n",
      "           2       0.67      0.67      0.67         9\n",
      "\n",
      "    accuracy                           0.52        27\n",
      "   macro avg       0.52      0.52      0.52        27\n",
      "weighted avg       0.52      0.52      0.52        27\n",
      "\n"
     ]
    }
   ],
   "source": [
    "\n",
    "data['Price_Category'] = pd.qcut(data['Price Per Gallon (USD)'], q=3, labels=[0, 1, 2])\n",
    "X_rf = data[['Yearly Gallons Per Capita', 'Daily Oil Consumption (Barrels)']]\n",
    "y_rf = data['Price_Category']\n",
    "X_train_rf, X_test_rf, y_train_rf, y_test_rf = train_test_split(X_rf, y_rf, test_size=0.2, random_state=42)\n",
    "random_forest_classifier = RandomForestClassifier()\n",
    "random_forest_classifier.fit(X_train_rf, y_train_rf)\n",
    "y_pred_rf = random_forest_classifier.predict(X_test_rf)\n",
    "accuracy_rf = accuracy_score(y_test_rf, y_pred_rf)\n",
    "conf_matrix_rf = confusion_matrix(y_test_rf, y_pred_rf)\n",
    "class_report_rf = classification_report(y_test_rf, y_pred_rf)\n",
    "print(f\"Random Forest Classification Accuracy: {accuracy_rf}\\nConfusion Matrix:\\n{conf_matrix_rf}\\nClassification Report:\\n{class_report_rf}\")"
   ]
  },
  {
   "cell_type": "code",
   "execution_count": 14,
   "id": "9ae4320e-34a2-4880-a739-9e5bd03ff5a7",
   "metadata": {},
   "outputs": [],
   "source": [
    "# 5. K-Means Clustering"
   ]
  },
  {
   "cell_type": "code",
   "execution_count": 18,
   "id": "aeb96b12-b158-415a-a373-4a705cf55e20",
   "metadata": {
    "scrolled": true
   },
   "outputs": [
    {
     "name": "stderr",
     "output_type": "stream",
     "text": [
      "D:\\conda\\Lib\\site-packages\\sklearn\\cluster\\_kmeans.py:870: FutureWarning: The default value of `n_init` will change from 10 to 'auto' in 1.4. Set the value of `n_init` explicitly to suppress the warning\n",
      "  warnings.warn(\n",
      "D:\\conda\\Lib\\site-packages\\sklearn\\cluster\\_kmeans.py:1382: UserWarning: KMeans is known to have a memory leak on Windows with MKL, when there are less chunks than available threads. You can avoid it by setting the environment variable OMP_NUM_THREADS=1.\n",
      "  warnings.warn(\n"
     ]
    },
    {
     "name": "stdout",
     "output_type": "stream",
     "text": [
      "        Country  Cluster\n",
      "30     Pakistan        2\n",
      "31       Poland        2\n",
      "33      Vietnam        2\n",
      "34      Nigeria        2\n",
      "35  Philippines        2\n"
     ]
    }
   ],
   "source": [
    "\n",
    "X_kmeans = data[['Yearly Gallons Per Capita', 'Price Per Gallon (USD)', 'Daily Oil Consumption (Barrels)']]\n",
    "kmeans = KMeans(n_clusters=3)\n",
    "data['Cluster'] = kmeans.fit_predict(X_kmeans)\n",
    "print(data[['Country', 'Cluster']].head())\n",
    "\n"
   ]
  },
  {
   "cell_type": "code",
   "execution_count": null,
   "id": "a2b5a535-7b01-447e-aeb2-4f2cc1dae653",
   "metadata": {},
   "outputs": [],
   "source": []
  }
 ],
 "metadata": {
  "kernelspec": {
   "display_name": "Python 3 (ipykernel)",
   "language": "python",
   "name": "python3"
  },
  "language_info": {
   "codemirror_mode": {
    "name": "ipython",
    "version": 3
   },
   "file_extension": ".py",
   "mimetype": "text/x-python",
   "name": "python",
   "nbconvert_exporter": "python",
   "pygments_lexer": "ipython3",
   "version": "3.11.7"
  }
 },
 "nbformat": 4,
 "nbformat_minor": 5
}
